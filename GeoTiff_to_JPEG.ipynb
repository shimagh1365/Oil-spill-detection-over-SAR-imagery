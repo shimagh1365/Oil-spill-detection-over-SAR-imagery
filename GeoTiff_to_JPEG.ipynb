{
  "nbformat": 4,
  "nbformat_minor": 0,
  "metadata": {
    "colab": {
      "name": "GeoTiff_to_JPEG.ipynb",
      "provenance": [],
      "collapsed_sections": []
    },
    "kernelspec": {
      "name": "python3",
      "display_name": "Python 3"
    }
  },
  "cells": [
    {
      "cell_type": "markdown",
      "metadata": {
        "id": "n2AMgGb5TIHU"
      },
      "source": [
        "Enter input and output dir\r\n",
        "\r\n",
        "Make sure that the output dir exists before runing\r\n",
        "\r\n",
        "Remove numbers after 'scale' for normal transforms"
      ]
    },
    {
      "cell_type": "code",
      "metadata": {
        "id": "EScRioaeSanx"
      },
      "source": [
        "import os\r\n",
        "from osgeo import gdal\r\n",
        "dir='/content/drive/MyDrive/sentinel1_oil/'\r\n",
        "dirout='/content/drive/MyDrive/s1_suez_jpg2/'\r\n",
        "directory = os.fsencode(dir)\r\n",
        "options_list = [\r\n",
        "    '-ot Byte',\r\n",
        "    '-of JPEG',\r\n",
        "    '-b 1',\r\n",
        "    '-scale -30 10 0 255'\r\n",
        "]           \r\n",
        "\r\n",
        "options_string = \" \".join(options_list)\r\n",
        "for file in os.listdir(directory):\r\n",
        "     filename = os.fsdecode(file)\r\n",
        "   \r\n",
        "     gdal.Translate(\r\n",
        "     dirout+filename[17:25] +'.jpg',\r\n",
        "     dir+filename,\r\n",
        "     options=options_string\r\n",
        "     )"
      ],
      "execution_count": null,
      "outputs": []
    }
  ]
}