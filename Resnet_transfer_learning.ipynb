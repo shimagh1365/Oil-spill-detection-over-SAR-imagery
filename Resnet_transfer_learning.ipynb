{
  "nbformat": 4,
  "nbformat_minor": 0,
  "metadata": {
    "colab": {
      "name": "Resnet transfer learning.ipynb",
      "provenance": [],
      "collapsed_sections": []
    },
    "kernelspec": {
      "name": "python3",
      "display_name": "Python 3"
    },
    "accelerator": "GPU"
  },
  "cells": [
    {
      "cell_type": "code",
      "metadata": {
        "id": "54vgHzft0mR3"
      },
      "source": [
        "# set the matplotlib backend so figures can be saved in the background\r\n",
        "import matplotlib\r\n",
        "matplotlib.use(\"Agg\")\r\n",
        "# import the necessary packages\r\n",
        "from tensorflow.keras.preprocessing.image import ImageDataGenerator\r\n",
        "from tensorflow.keras.layers import Dropout ,Flatten,Dense,Input,AveragePooling2D\r\n",
        "from tensorflow.keras.models import Model\r\n",
        "from tensorflow.keras.optimizers import Adam\r\n",
        "from tensorflow.keras.applications import ResNet50V2\r\n",
        "from keras.applications.resnet_v2 import preprocess_input\r\n",
        "from sklearn.metrics import classification_report\r\n",
        "from imutils import paths\r\n",
        "import matplotlib.pyplot as plt\r\n",
        "import numpy as np\r\n",
        "import argparse\r\n",
        "import itertools "
      ],
      "execution_count": null,
      "outputs": []
    },
    {
      "cell_type": "code",
      "metadata": {
        "id": "6Ce5HfOZ0y-0"
      },
      "source": [
        " baseModel = ResNet50V2(weights=\"imagenet\", include_top=False,input_tensor=Input(shape=(224, 224, 3)))"
      ],
      "execution_count": null,
      "outputs": []
    },
    {
      "cell_type": "code",
      "metadata": {
        "id": "arwmz0dVG6Px"
      },
      "source": [
        "def plot_confusion_matrix(cm, classes,\r\n",
        "                          normalize=False,\r\n",
        "                          title='Confusion matrix',\r\n",
        "                          cmap=plt.cm.Blues):\r\n",
        "    \"\"\"\r\n",
        "    This function prints and plots the confusion matrix.\r\n",
        "    Normalization can be applied by setting `normalize=True`.\r\n",
        "    \"\"\"\r\n",
        "    plt.imshow(cm, interpolation='nearest', cmap=cmap)\r\n",
        "    plt.title(title)\r\n",
        "    plt.colorbar()\r\n",
        "    tick_marks = np.arange(len(classes))\r\n",
        "    plt.xticks(tick_marks, classes, rotation=45)\r\n",
        "    plt.yticks(tick_marks, classes)\r\n",
        "\r\n",
        "    if normalize:\r\n",
        "        cm = cm.astype('float') / cm.sum(axis=1)[:, np.newaxis]\r\n",
        "        print(\"Normalized confusion matrix\")\r\n",
        "    else:\r\n",
        "        print('Confusion matrix, without normalization')\r\n",
        "\r\n",
        "    print(cm)\r\n",
        "\r\n",
        "    thresh = cm.max() / 2.\r\n",
        "    for i, j in itertools.product(range(cm.shape[0]), range(cm.shape[1])):\r\n",
        "        plt.text(j, i, cm[i, j],\r\n",
        "            horizontalalignment=\"center\",\r\n",
        "            color=\"white\" if cm[i, j] > thresh else \"black\")\r\n",
        "\r\n",
        "    plt.tight_layout()\r\n",
        "    plt.ylabel('True label')\r\n",
        "    plt.xlabel('Predicted label')"
      ],
      "execution_count": null,
      "outputs": []
    },
    {
      "cell_type": "code",
      "metadata": {
        "id": "UHztBR8xjlmh"
      },
      "source": [
        "train_path='/content/drive/MyDrive/senario1_224/train'\r\n",
        "valid_path='/content/drive/MyDrive/senario1_224/valid'\r\n",
        "test_path='/content/drive/MyDrive/senario1_224/test'\r\n",
        "testC_path='/content/drive/MyDrive/senario1_224/testC'\r\n",
        "testC2_path='/content/drive/MyDrive/senario2_224/testC'\r\n",
        "IMAGE_SIZE = [224, 224]"
      ],
      "execution_count": null,
      "outputs": []
    },
    {
      "cell_type": "code",
      "metadata": {
        "colab": {
          "base_uri": "https://localhost:8080/",
          "height": 54
        },
        "id": "bey9Qq3_1Ea0",
        "outputId": "1b42b7f6-f678-4a9a-e197-ea10a8bc55fa"
      },
      "source": [
        "'''\r\n",
        "imname='/content/drive/MyDrive/s1_suez_jpg2/20141109.jpg'\r\n",
        "Image(filename=imname)\r\n",
        "preprocessed_image = prepare_image(imname)\r\n",
        "predictions = mobile.predict(preprocessed_image)\r\n",
        "results = imagenet_utils.decode_predictions(predictions)\r\n",
        "results\r\n",
        "'''"
      ],
      "execution_count": null,
      "outputs": [
        {
          "output_type": "execute_result",
          "data": {
            "application/vnd.google.colaboratory.intrinsic+json": {
              "type": "string"
            },
            "text/plain": [
              "\"\\nimname='/content/drive/MyDrive/s1_suez_jpg2/20141109.jpg'\\nImage(filename=imname)\\npreprocessed_image = prepare_image(imname)\\npredictions = mobile.predict(preprocessed_image)\\nresults = imagenet_utils.decode_predictions(predictions)\\nresults\\n\""
            ]
          },
          "metadata": {
            "tags": []
          },
          "execution_count": 5
        }
      ]
    },
    {
      "cell_type": "code",
      "metadata": {
        "id": "yg98ryMQjmOg"
      },
      "source": [
        "baseModel = ResNet50V2(weights=\"imagenet\", include_top=False,\r\n",
        "\tinput_tensor=Input(shape=(224, 224, 3)))\r\n",
        "# construct the head of the model that will be placed on top of the\r\n",
        "# the base model\r\n",
        "headModel = baseModel.output\r\n",
        "#headModel = AveragePooling2D(pool_size=(7, 7))(headModel)\r\n",
        "headModel = Flatten(name=\"flatten\")(headModel)\r\n",
        "#headModel = Dense(16, activation=\"relu\")(headModel)\r\n",
        "headModel = Dense(2, activation=\"sigmoid\")(headModel)\r\n",
        "# place the head FC model on top of the base model (this will become\r\n",
        "# the actual model we will train)\r\n",
        "model = Model(inputs=baseModel.input, outputs=headModel)\r\n",
        "# loop over all layers in the base model and freeze them so they will\r\n",
        "# *not* be updated during the training process\r\n",
        "for layer in baseModel.layers:\r\n",
        "\tlayer.trainable = False"
      ],
      "execution_count": null,
      "outputs": []
    },
    {
      "cell_type": "code",
      "metadata": {
        "id": "YC0V1zSy2-Qq",
        "colab": {
          "base_uri": "https://localhost:8080/"
        },
        "outputId": "e7d1c250-3ac8-46e6-e0a7-9893bc168f00"
      },
      "source": [
        "model.summary()    "
      ],
      "execution_count": null,
      "outputs": [
        {
          "output_type": "stream",
          "text": [
            "Model: \"model\"\n",
            "__________________________________________________________________________________________________\n",
            "Layer (type)                    Output Shape         Param #     Connected to                     \n",
            "==================================================================================================\n",
            "input_2 (InputLayer)            [(None, 224, 224, 3) 0                                            \n",
            "__________________________________________________________________________________________________\n",
            "conv1_pad (ZeroPadding2D)       (None, 230, 230, 3)  0           input_2[0][0]                    \n",
            "__________________________________________________________________________________________________\n",
            "conv1_conv (Conv2D)             (None, 112, 112, 64) 9472        conv1_pad[0][0]                  \n",
            "__________________________________________________________________________________________________\n",
            "pool1_pad (ZeroPadding2D)       (None, 114, 114, 64) 0           conv1_conv[0][0]                 \n",
            "__________________________________________________________________________________________________\n",
            "pool1_pool (MaxPooling2D)       (None, 56, 56, 64)   0           pool1_pad[0][0]                  \n",
            "__________________________________________________________________________________________________\n",
            "conv2_block1_preact_bn (BatchNo (None, 56, 56, 64)   256         pool1_pool[0][0]                 \n",
            "__________________________________________________________________________________________________\n",
            "conv2_block1_preact_relu (Activ (None, 56, 56, 64)   0           conv2_block1_preact_bn[0][0]     \n",
            "__________________________________________________________________________________________________\n",
            "conv2_block1_1_conv (Conv2D)    (None, 56, 56, 64)   4096        conv2_block1_preact_relu[0][0]   \n",
            "__________________________________________________________________________________________________\n",
            "conv2_block1_1_bn (BatchNormali (None, 56, 56, 64)   256         conv2_block1_1_conv[0][0]        \n",
            "__________________________________________________________________________________________________\n",
            "conv2_block1_1_relu (Activation (None, 56, 56, 64)   0           conv2_block1_1_bn[0][0]          \n",
            "__________________________________________________________________________________________________\n",
            "conv2_block1_2_pad (ZeroPadding (None, 58, 58, 64)   0           conv2_block1_1_relu[0][0]        \n",
            "__________________________________________________________________________________________________\n",
            "conv2_block1_2_conv (Conv2D)    (None, 56, 56, 64)   36864       conv2_block1_2_pad[0][0]         \n",
            "__________________________________________________________________________________________________\n",
            "conv2_block1_2_bn (BatchNormali (None, 56, 56, 64)   256         conv2_block1_2_conv[0][0]        \n",
            "__________________________________________________________________________________________________\n",
            "conv2_block1_2_relu (Activation (None, 56, 56, 64)   0           conv2_block1_2_bn[0][0]          \n",
            "__________________________________________________________________________________________________\n",
            "conv2_block1_0_conv (Conv2D)    (None, 56, 56, 256)  16640       conv2_block1_preact_relu[0][0]   \n",
            "__________________________________________________________________________________________________\n",
            "conv2_block1_3_conv (Conv2D)    (None, 56, 56, 256)  16640       conv2_block1_2_relu[0][0]        \n",
            "__________________________________________________________________________________________________\n",
            "conv2_block1_out (Add)          (None, 56, 56, 256)  0           conv2_block1_0_conv[0][0]        \n",
            "                                                                 conv2_block1_3_conv[0][0]        \n",
            "__________________________________________________________________________________________________\n",
            "conv2_block2_preact_bn (BatchNo (None, 56, 56, 256)  1024        conv2_block1_out[0][0]           \n",
            "__________________________________________________________________________________________________\n",
            "conv2_block2_preact_relu (Activ (None, 56, 56, 256)  0           conv2_block2_preact_bn[0][0]     \n",
            "__________________________________________________________________________________________________\n",
            "conv2_block2_1_conv (Conv2D)    (None, 56, 56, 64)   16384       conv2_block2_preact_relu[0][0]   \n",
            "__________________________________________________________________________________________________\n",
            "conv2_block2_1_bn (BatchNormali (None, 56, 56, 64)   256         conv2_block2_1_conv[0][0]        \n",
            "__________________________________________________________________________________________________\n",
            "conv2_block2_1_relu (Activation (None, 56, 56, 64)   0           conv2_block2_1_bn[0][0]          \n",
            "__________________________________________________________________________________________________\n",
            "conv2_block2_2_pad (ZeroPadding (None, 58, 58, 64)   0           conv2_block2_1_relu[0][0]        \n",
            "__________________________________________________________________________________________________\n",
            "conv2_block2_2_conv (Conv2D)    (None, 56, 56, 64)   36864       conv2_block2_2_pad[0][0]         \n",
            "__________________________________________________________________________________________________\n",
            "conv2_block2_2_bn (BatchNormali (None, 56, 56, 64)   256         conv2_block2_2_conv[0][0]        \n",
            "__________________________________________________________________________________________________\n",
            "conv2_block2_2_relu (Activation (None, 56, 56, 64)   0           conv2_block2_2_bn[0][0]          \n",
            "__________________________________________________________________________________________________\n",
            "conv2_block2_3_conv (Conv2D)    (None, 56, 56, 256)  16640       conv2_block2_2_relu[0][0]        \n",
            "__________________________________________________________________________________________________\n",
            "conv2_block2_out (Add)          (None, 56, 56, 256)  0           conv2_block1_out[0][0]           \n",
            "                                                                 conv2_block2_3_conv[0][0]        \n",
            "__________________________________________________________________________________________________\n",
            "conv2_block3_preact_bn (BatchNo (None, 56, 56, 256)  1024        conv2_block2_out[0][0]           \n",
            "__________________________________________________________________________________________________\n",
            "conv2_block3_preact_relu (Activ (None, 56, 56, 256)  0           conv2_block3_preact_bn[0][0]     \n",
            "__________________________________________________________________________________________________\n",
            "conv2_block3_1_conv (Conv2D)    (None, 56, 56, 64)   16384       conv2_block3_preact_relu[0][0]   \n",
            "__________________________________________________________________________________________________\n",
            "conv2_block3_1_bn (BatchNormali (None, 56, 56, 64)   256         conv2_block3_1_conv[0][0]        \n",
            "__________________________________________________________________________________________________\n",
            "conv2_block3_1_relu (Activation (None, 56, 56, 64)   0           conv2_block3_1_bn[0][0]          \n",
            "__________________________________________________________________________________________________\n",
            "conv2_block3_2_pad (ZeroPadding (None, 58, 58, 64)   0           conv2_block3_1_relu[0][0]        \n",
            "__________________________________________________________________________________________________\n",
            "conv2_block3_2_conv (Conv2D)    (None, 28, 28, 64)   36864       conv2_block3_2_pad[0][0]         \n",
            "__________________________________________________________________________________________________\n",
            "conv2_block3_2_bn (BatchNormali (None, 28, 28, 64)   256         conv2_block3_2_conv[0][0]        \n",
            "__________________________________________________________________________________________________\n",
            "conv2_block3_2_relu (Activation (None, 28, 28, 64)   0           conv2_block3_2_bn[0][0]          \n",
            "__________________________________________________________________________________________________\n",
            "max_pooling2d_3 (MaxPooling2D)  (None, 28, 28, 256)  0           conv2_block2_out[0][0]           \n",
            "__________________________________________________________________________________________________\n",
            "conv2_block3_3_conv (Conv2D)    (None, 28, 28, 256)  16640       conv2_block3_2_relu[0][0]        \n",
            "__________________________________________________________________________________________________\n",
            "conv2_block3_out (Add)          (None, 28, 28, 256)  0           max_pooling2d_3[0][0]            \n",
            "                                                                 conv2_block3_3_conv[0][0]        \n",
            "__________________________________________________________________________________________________\n",
            "conv3_block1_preact_bn (BatchNo (None, 28, 28, 256)  1024        conv2_block3_out[0][0]           \n",
            "__________________________________________________________________________________________________\n",
            "conv3_block1_preact_relu (Activ (None, 28, 28, 256)  0           conv3_block1_preact_bn[0][0]     \n",
            "__________________________________________________________________________________________________\n",
            "conv3_block1_1_conv (Conv2D)    (None, 28, 28, 128)  32768       conv3_block1_preact_relu[0][0]   \n",
            "__________________________________________________________________________________________________\n",
            "conv3_block1_1_bn (BatchNormali (None, 28, 28, 128)  512         conv3_block1_1_conv[0][0]        \n",
            "__________________________________________________________________________________________________\n",
            "conv3_block1_1_relu (Activation (None, 28, 28, 128)  0           conv3_block1_1_bn[0][0]          \n",
            "__________________________________________________________________________________________________\n",
            "conv3_block1_2_pad (ZeroPadding (None, 30, 30, 128)  0           conv3_block1_1_relu[0][0]        \n",
            "__________________________________________________________________________________________________\n",
            "conv3_block1_2_conv (Conv2D)    (None, 28, 28, 128)  147456      conv3_block1_2_pad[0][0]         \n",
            "__________________________________________________________________________________________________\n",
            "conv3_block1_2_bn (BatchNormali (None, 28, 28, 128)  512         conv3_block1_2_conv[0][0]        \n",
            "__________________________________________________________________________________________________\n",
            "conv3_block1_2_relu (Activation (None, 28, 28, 128)  0           conv3_block1_2_bn[0][0]          \n",
            "__________________________________________________________________________________________________\n",
            "conv3_block1_0_conv (Conv2D)    (None, 28, 28, 512)  131584      conv3_block1_preact_relu[0][0]   \n",
            "__________________________________________________________________________________________________\n",
            "conv3_block1_3_conv (Conv2D)    (None, 28, 28, 512)  66048       conv3_block1_2_relu[0][0]        \n",
            "__________________________________________________________________________________________________\n",
            "conv3_block1_out (Add)          (None, 28, 28, 512)  0           conv3_block1_0_conv[0][0]        \n",
            "                                                                 conv3_block1_3_conv[0][0]        \n",
            "__________________________________________________________________________________________________\n",
            "conv3_block2_preact_bn (BatchNo (None, 28, 28, 512)  2048        conv3_block1_out[0][0]           \n",
            "__________________________________________________________________________________________________\n",
            "conv3_block2_preact_relu (Activ (None, 28, 28, 512)  0           conv3_block2_preact_bn[0][0]     \n",
            "__________________________________________________________________________________________________\n",
            "conv3_block2_1_conv (Conv2D)    (None, 28, 28, 128)  65536       conv3_block2_preact_relu[0][0]   \n",
            "__________________________________________________________________________________________________\n",
            "conv3_block2_1_bn (BatchNormali (None, 28, 28, 128)  512         conv3_block2_1_conv[0][0]        \n",
            "__________________________________________________________________________________________________\n",
            "conv3_block2_1_relu (Activation (None, 28, 28, 128)  0           conv3_block2_1_bn[0][0]          \n",
            "__________________________________________________________________________________________________\n",
            "conv3_block2_2_pad (ZeroPadding (None, 30, 30, 128)  0           conv3_block2_1_relu[0][0]        \n",
            "__________________________________________________________________________________________________\n",
            "conv3_block2_2_conv (Conv2D)    (None, 28, 28, 128)  147456      conv3_block2_2_pad[0][0]         \n",
            "__________________________________________________________________________________________________\n",
            "conv3_block2_2_bn (BatchNormali (None, 28, 28, 128)  512         conv3_block2_2_conv[0][0]        \n",
            "__________________________________________________________________________________________________\n",
            "conv3_block2_2_relu (Activation (None, 28, 28, 128)  0           conv3_block2_2_bn[0][0]          \n",
            "__________________________________________________________________________________________________\n",
            "conv3_block2_3_conv (Conv2D)    (None, 28, 28, 512)  66048       conv3_block2_2_relu[0][0]        \n",
            "__________________________________________________________________________________________________\n",
            "conv3_block2_out (Add)          (None, 28, 28, 512)  0           conv3_block1_out[0][0]           \n",
            "                                                                 conv3_block2_3_conv[0][0]        \n",
            "__________________________________________________________________________________________________\n",
            "conv3_block3_preact_bn (BatchNo (None, 28, 28, 512)  2048        conv3_block2_out[0][0]           \n",
            "__________________________________________________________________________________________________\n",
            "conv3_block3_preact_relu (Activ (None, 28, 28, 512)  0           conv3_block3_preact_bn[0][0]     \n",
            "__________________________________________________________________________________________________\n",
            "conv3_block3_1_conv (Conv2D)    (None, 28, 28, 128)  65536       conv3_block3_preact_relu[0][0]   \n",
            "__________________________________________________________________________________________________\n",
            "conv3_block3_1_bn (BatchNormali (None, 28, 28, 128)  512         conv3_block3_1_conv[0][0]        \n",
            "__________________________________________________________________________________________________\n",
            "conv3_block3_1_relu (Activation (None, 28, 28, 128)  0           conv3_block3_1_bn[0][0]          \n",
            "__________________________________________________________________________________________________\n",
            "conv3_block3_2_pad (ZeroPadding (None, 30, 30, 128)  0           conv3_block3_1_relu[0][0]        \n",
            "__________________________________________________________________________________________________\n",
            "conv3_block3_2_conv (Conv2D)    (None, 28, 28, 128)  147456      conv3_block3_2_pad[0][0]         \n",
            "__________________________________________________________________________________________________\n",
            "conv3_block3_2_bn (BatchNormali (None, 28, 28, 128)  512         conv3_block3_2_conv[0][0]        \n",
            "__________________________________________________________________________________________________\n",
            "conv3_block3_2_relu (Activation (None, 28, 28, 128)  0           conv3_block3_2_bn[0][0]          \n",
            "__________________________________________________________________________________________________\n",
            "conv3_block3_3_conv (Conv2D)    (None, 28, 28, 512)  66048       conv3_block3_2_relu[0][0]        \n",
            "__________________________________________________________________________________________________\n",
            "conv3_block3_out (Add)          (None, 28, 28, 512)  0           conv3_block2_out[0][0]           \n",
            "                                                                 conv3_block3_3_conv[0][0]        \n",
            "__________________________________________________________________________________________________\n",
            "conv3_block4_preact_bn (BatchNo (None, 28, 28, 512)  2048        conv3_block3_out[0][0]           \n",
            "__________________________________________________________________________________________________\n",
            "conv3_block4_preact_relu (Activ (None, 28, 28, 512)  0           conv3_block4_preact_bn[0][0]     \n",
            "__________________________________________________________________________________________________\n",
            "conv3_block4_1_conv (Conv2D)    (None, 28, 28, 128)  65536       conv3_block4_preact_relu[0][0]   \n",
            "__________________________________________________________________________________________________\n",
            "conv3_block4_1_bn (BatchNormali (None, 28, 28, 128)  512         conv3_block4_1_conv[0][0]        \n",
            "__________________________________________________________________________________________________\n",
            "conv3_block4_1_relu (Activation (None, 28, 28, 128)  0           conv3_block4_1_bn[0][0]          \n",
            "__________________________________________________________________________________________________\n",
            "conv3_block4_2_pad (ZeroPadding (None, 30, 30, 128)  0           conv3_block4_1_relu[0][0]        \n",
            "__________________________________________________________________________________________________\n",
            "conv3_block4_2_conv (Conv2D)    (None, 14, 14, 128)  147456      conv3_block4_2_pad[0][0]         \n",
            "__________________________________________________________________________________________________\n",
            "conv3_block4_2_bn (BatchNormali (None, 14, 14, 128)  512         conv3_block4_2_conv[0][0]        \n",
            "__________________________________________________________________________________________________\n",
            "conv3_block4_2_relu (Activation (None, 14, 14, 128)  0           conv3_block4_2_bn[0][0]          \n",
            "__________________________________________________________________________________________________\n",
            "max_pooling2d_4 (MaxPooling2D)  (None, 14, 14, 512)  0           conv3_block3_out[0][0]           \n",
            "__________________________________________________________________________________________________\n",
            "conv3_block4_3_conv (Conv2D)    (None, 14, 14, 512)  66048       conv3_block4_2_relu[0][0]        \n",
            "__________________________________________________________________________________________________\n",
            "conv3_block4_out (Add)          (None, 14, 14, 512)  0           max_pooling2d_4[0][0]            \n",
            "                                                                 conv3_block4_3_conv[0][0]        \n",
            "__________________________________________________________________________________________________\n",
            "conv4_block1_preact_bn (BatchNo (None, 14, 14, 512)  2048        conv3_block4_out[0][0]           \n",
            "__________________________________________________________________________________________________\n",
            "conv4_block1_preact_relu (Activ (None, 14, 14, 512)  0           conv4_block1_preact_bn[0][0]     \n",
            "__________________________________________________________________________________________________\n",
            "conv4_block1_1_conv (Conv2D)    (None, 14, 14, 256)  131072      conv4_block1_preact_relu[0][0]   \n",
            "__________________________________________________________________________________________________\n",
            "conv4_block1_1_bn (BatchNormali (None, 14, 14, 256)  1024        conv4_block1_1_conv[0][0]        \n",
            "__________________________________________________________________________________________________\n",
            "conv4_block1_1_relu (Activation (None, 14, 14, 256)  0           conv4_block1_1_bn[0][0]          \n",
            "__________________________________________________________________________________________________\n",
            "conv4_block1_2_pad (ZeroPadding (None, 16, 16, 256)  0           conv4_block1_1_relu[0][0]        \n",
            "__________________________________________________________________________________________________\n",
            "conv4_block1_2_conv (Conv2D)    (None, 14, 14, 256)  589824      conv4_block1_2_pad[0][0]         \n",
            "__________________________________________________________________________________________________\n",
            "conv4_block1_2_bn (BatchNormali (None, 14, 14, 256)  1024        conv4_block1_2_conv[0][0]        \n",
            "__________________________________________________________________________________________________\n",
            "conv4_block1_2_relu (Activation (None, 14, 14, 256)  0           conv4_block1_2_bn[0][0]          \n",
            "__________________________________________________________________________________________________\n",
            "conv4_block1_0_conv (Conv2D)    (None, 14, 14, 1024) 525312      conv4_block1_preact_relu[0][0]   \n",
            "__________________________________________________________________________________________________\n",
            "conv4_block1_3_conv (Conv2D)    (None, 14, 14, 1024) 263168      conv4_block1_2_relu[0][0]        \n",
            "__________________________________________________________________________________________________\n",
            "conv4_block1_out (Add)          (None, 14, 14, 1024) 0           conv4_block1_0_conv[0][0]        \n",
            "                                                                 conv4_block1_3_conv[0][0]        \n",
            "__________________________________________________________________________________________________\n",
            "conv4_block2_preact_bn (BatchNo (None, 14, 14, 1024) 4096        conv4_block1_out[0][0]           \n",
            "__________________________________________________________________________________________________\n",
            "conv4_block2_preact_relu (Activ (None, 14, 14, 1024) 0           conv4_block2_preact_bn[0][0]     \n",
            "__________________________________________________________________________________________________\n",
            "conv4_block2_1_conv (Conv2D)    (None, 14, 14, 256)  262144      conv4_block2_preact_relu[0][0]   \n",
            "__________________________________________________________________________________________________\n",
            "conv4_block2_1_bn (BatchNormali (None, 14, 14, 256)  1024        conv4_block2_1_conv[0][0]        \n",
            "__________________________________________________________________________________________________\n",
            "conv4_block2_1_relu (Activation (None, 14, 14, 256)  0           conv4_block2_1_bn[0][0]          \n",
            "__________________________________________________________________________________________________\n",
            "conv4_block2_2_pad (ZeroPadding (None, 16, 16, 256)  0           conv4_block2_1_relu[0][0]        \n",
            "__________________________________________________________________________________________________\n",
            "conv4_block2_2_conv (Conv2D)    (None, 14, 14, 256)  589824      conv4_block2_2_pad[0][0]         \n",
            "__________________________________________________________________________________________________\n",
            "conv4_block2_2_bn (BatchNormali (None, 14, 14, 256)  1024        conv4_block2_2_conv[0][0]        \n",
            "__________________________________________________________________________________________________\n",
            "conv4_block2_2_relu (Activation (None, 14, 14, 256)  0           conv4_block2_2_bn[0][0]          \n",
            "__________________________________________________________________________________________________\n",
            "conv4_block2_3_conv (Conv2D)    (None, 14, 14, 1024) 263168      conv4_block2_2_relu[0][0]        \n",
            "__________________________________________________________________________________________________\n",
            "conv4_block2_out (Add)          (None, 14, 14, 1024) 0           conv4_block1_out[0][0]           \n",
            "                                                                 conv4_block2_3_conv[0][0]        \n",
            "__________________________________________________________________________________________________\n",
            "conv4_block3_preact_bn (BatchNo (None, 14, 14, 1024) 4096        conv4_block2_out[0][0]           \n",
            "__________________________________________________________________________________________________\n",
            "conv4_block3_preact_relu (Activ (None, 14, 14, 1024) 0           conv4_block3_preact_bn[0][0]     \n",
            "__________________________________________________________________________________________________\n",
            "conv4_block3_1_conv (Conv2D)    (None, 14, 14, 256)  262144      conv4_block3_preact_relu[0][0]   \n",
            "__________________________________________________________________________________________________\n",
            "conv4_block3_1_bn (BatchNormali (None, 14, 14, 256)  1024        conv4_block3_1_conv[0][0]        \n",
            "__________________________________________________________________________________________________\n",
            "conv4_block3_1_relu (Activation (None, 14, 14, 256)  0           conv4_block3_1_bn[0][0]          \n",
            "__________________________________________________________________________________________________\n",
            "conv4_block3_2_pad (ZeroPadding (None, 16, 16, 256)  0           conv4_block3_1_relu[0][0]        \n",
            "__________________________________________________________________________________________________\n",
            "conv4_block3_2_conv (Conv2D)    (None, 14, 14, 256)  589824      conv4_block3_2_pad[0][0]         \n",
            "__________________________________________________________________________________________________\n",
            "conv4_block3_2_bn (BatchNormali (None, 14, 14, 256)  1024        conv4_block3_2_conv[0][0]        \n",
            "__________________________________________________________________________________________________\n",
            "conv4_block3_2_relu (Activation (None, 14, 14, 256)  0           conv4_block3_2_bn[0][0]          \n",
            "__________________________________________________________________________________________________\n",
            "conv4_block3_3_conv (Conv2D)    (None, 14, 14, 1024) 263168      conv4_block3_2_relu[0][0]        \n",
            "__________________________________________________________________________________________________\n",
            "conv4_block3_out (Add)          (None, 14, 14, 1024) 0           conv4_block2_out[0][0]           \n",
            "                                                                 conv4_block3_3_conv[0][0]        \n",
            "__________________________________________________________________________________________________\n",
            "conv4_block4_preact_bn (BatchNo (None, 14, 14, 1024) 4096        conv4_block3_out[0][0]           \n",
            "__________________________________________________________________________________________________\n",
            "conv4_block4_preact_relu (Activ (None, 14, 14, 1024) 0           conv4_block4_preact_bn[0][0]     \n",
            "__________________________________________________________________________________________________\n",
            "conv4_block4_1_conv (Conv2D)    (None, 14, 14, 256)  262144      conv4_block4_preact_relu[0][0]   \n",
            "__________________________________________________________________________________________________\n",
            "conv4_block4_1_bn (BatchNormali (None, 14, 14, 256)  1024        conv4_block4_1_conv[0][0]        \n",
            "__________________________________________________________________________________________________\n",
            "conv4_block4_1_relu (Activation (None, 14, 14, 256)  0           conv4_block4_1_bn[0][0]          \n",
            "__________________________________________________________________________________________________\n",
            "conv4_block4_2_pad (ZeroPadding (None, 16, 16, 256)  0           conv4_block4_1_relu[0][0]        \n",
            "__________________________________________________________________________________________________\n",
            "conv4_block4_2_conv (Conv2D)    (None, 14, 14, 256)  589824      conv4_block4_2_pad[0][0]         \n",
            "__________________________________________________________________________________________________\n",
            "conv4_block4_2_bn (BatchNormali (None, 14, 14, 256)  1024        conv4_block4_2_conv[0][0]        \n",
            "__________________________________________________________________________________________________\n",
            "conv4_block4_2_relu (Activation (None, 14, 14, 256)  0           conv4_block4_2_bn[0][0]          \n",
            "__________________________________________________________________________________________________\n",
            "conv4_block4_3_conv (Conv2D)    (None, 14, 14, 1024) 263168      conv4_block4_2_relu[0][0]        \n",
            "__________________________________________________________________________________________________\n",
            "conv4_block4_out (Add)          (None, 14, 14, 1024) 0           conv4_block3_out[0][0]           \n",
            "                                                                 conv4_block4_3_conv[0][0]        \n",
            "__________________________________________________________________________________________________\n",
            "conv4_block5_preact_bn (BatchNo (None, 14, 14, 1024) 4096        conv4_block4_out[0][0]           \n",
            "__________________________________________________________________________________________________\n",
            "conv4_block5_preact_relu (Activ (None, 14, 14, 1024) 0           conv4_block5_preact_bn[0][0]     \n",
            "__________________________________________________________________________________________________\n",
            "conv4_block5_1_conv (Conv2D)    (None, 14, 14, 256)  262144      conv4_block5_preact_relu[0][0]   \n",
            "__________________________________________________________________________________________________\n",
            "conv4_block5_1_bn (BatchNormali (None, 14, 14, 256)  1024        conv4_block5_1_conv[0][0]        \n",
            "__________________________________________________________________________________________________\n",
            "conv4_block5_1_relu (Activation (None, 14, 14, 256)  0           conv4_block5_1_bn[0][0]          \n",
            "__________________________________________________________________________________________________\n",
            "conv4_block5_2_pad (ZeroPadding (None, 16, 16, 256)  0           conv4_block5_1_relu[0][0]        \n",
            "__________________________________________________________________________________________________\n",
            "conv4_block5_2_conv (Conv2D)    (None, 14, 14, 256)  589824      conv4_block5_2_pad[0][0]         \n",
            "__________________________________________________________________________________________________\n",
            "conv4_block5_2_bn (BatchNormali (None, 14, 14, 256)  1024        conv4_block5_2_conv[0][0]        \n",
            "__________________________________________________________________________________________________\n",
            "conv4_block5_2_relu (Activation (None, 14, 14, 256)  0           conv4_block5_2_bn[0][0]          \n",
            "__________________________________________________________________________________________________\n",
            "conv4_block5_3_conv (Conv2D)    (None, 14, 14, 1024) 263168      conv4_block5_2_relu[0][0]        \n",
            "__________________________________________________________________________________________________\n",
            "conv4_block5_out (Add)          (None, 14, 14, 1024) 0           conv4_block4_out[0][0]           \n",
            "                                                                 conv4_block5_3_conv[0][0]        \n",
            "__________________________________________________________________________________________________\n",
            "conv4_block6_preact_bn (BatchNo (None, 14, 14, 1024) 4096        conv4_block5_out[0][0]           \n",
            "__________________________________________________________________________________________________\n",
            "conv4_block6_preact_relu (Activ (None, 14, 14, 1024) 0           conv4_block6_preact_bn[0][0]     \n",
            "__________________________________________________________________________________________________\n",
            "conv4_block6_1_conv (Conv2D)    (None, 14, 14, 256)  262144      conv4_block6_preact_relu[0][0]   \n",
            "__________________________________________________________________________________________________\n",
            "conv4_block6_1_bn (BatchNormali (None, 14, 14, 256)  1024        conv4_block6_1_conv[0][0]        \n",
            "__________________________________________________________________________________________________\n",
            "conv4_block6_1_relu (Activation (None, 14, 14, 256)  0           conv4_block6_1_bn[0][0]          \n",
            "__________________________________________________________________________________________________\n",
            "conv4_block6_2_pad (ZeroPadding (None, 16, 16, 256)  0           conv4_block6_1_relu[0][0]        \n",
            "__________________________________________________________________________________________________\n",
            "conv4_block6_2_conv (Conv2D)    (None, 7, 7, 256)    589824      conv4_block6_2_pad[0][0]         \n",
            "__________________________________________________________________________________________________\n",
            "conv4_block6_2_bn (BatchNormali (None, 7, 7, 256)    1024        conv4_block6_2_conv[0][0]        \n",
            "__________________________________________________________________________________________________\n",
            "conv4_block6_2_relu (Activation (None, 7, 7, 256)    0           conv4_block6_2_bn[0][0]          \n",
            "__________________________________________________________________________________________________\n",
            "max_pooling2d_5 (MaxPooling2D)  (None, 7, 7, 1024)   0           conv4_block5_out[0][0]           \n",
            "__________________________________________________________________________________________________\n",
            "conv4_block6_3_conv (Conv2D)    (None, 7, 7, 1024)   263168      conv4_block6_2_relu[0][0]        \n",
            "__________________________________________________________________________________________________\n",
            "conv4_block6_out (Add)          (None, 7, 7, 1024)   0           max_pooling2d_5[0][0]            \n",
            "                                                                 conv4_block6_3_conv[0][0]        \n",
            "__________________________________________________________________________________________________\n",
            "conv5_block1_preact_bn (BatchNo (None, 7, 7, 1024)   4096        conv4_block6_out[0][0]           \n",
            "__________________________________________________________________________________________________\n",
            "conv5_block1_preact_relu (Activ (None, 7, 7, 1024)   0           conv5_block1_preact_bn[0][0]     \n",
            "__________________________________________________________________________________________________\n",
            "conv5_block1_1_conv (Conv2D)    (None, 7, 7, 512)    524288      conv5_block1_preact_relu[0][0]   \n",
            "__________________________________________________________________________________________________\n",
            "conv5_block1_1_bn (BatchNormali (None, 7, 7, 512)    2048        conv5_block1_1_conv[0][0]        \n",
            "__________________________________________________________________________________________________\n",
            "conv5_block1_1_relu (Activation (None, 7, 7, 512)    0           conv5_block1_1_bn[0][0]          \n",
            "__________________________________________________________________________________________________\n",
            "conv5_block1_2_pad (ZeroPadding (None, 9, 9, 512)    0           conv5_block1_1_relu[0][0]        \n",
            "__________________________________________________________________________________________________\n",
            "conv5_block1_2_conv (Conv2D)    (None, 7, 7, 512)    2359296     conv5_block1_2_pad[0][0]         \n",
            "__________________________________________________________________________________________________\n",
            "conv5_block1_2_bn (BatchNormali (None, 7, 7, 512)    2048        conv5_block1_2_conv[0][0]        \n",
            "__________________________________________________________________________________________________\n",
            "conv5_block1_2_relu (Activation (None, 7, 7, 512)    0           conv5_block1_2_bn[0][0]          \n",
            "__________________________________________________________________________________________________\n",
            "conv5_block1_0_conv (Conv2D)    (None, 7, 7, 2048)   2099200     conv5_block1_preact_relu[0][0]   \n",
            "__________________________________________________________________________________________________\n",
            "conv5_block1_3_conv (Conv2D)    (None, 7, 7, 2048)   1050624     conv5_block1_2_relu[0][0]        \n",
            "__________________________________________________________________________________________________\n",
            "conv5_block1_out (Add)          (None, 7, 7, 2048)   0           conv5_block1_0_conv[0][0]        \n",
            "                                                                 conv5_block1_3_conv[0][0]        \n",
            "__________________________________________________________________________________________________\n",
            "conv5_block2_preact_bn (BatchNo (None, 7, 7, 2048)   8192        conv5_block1_out[0][0]           \n",
            "__________________________________________________________________________________________________\n",
            "conv5_block2_preact_relu (Activ (None, 7, 7, 2048)   0           conv5_block2_preact_bn[0][0]     \n",
            "__________________________________________________________________________________________________\n",
            "conv5_block2_1_conv (Conv2D)    (None, 7, 7, 512)    1048576     conv5_block2_preact_relu[0][0]   \n",
            "__________________________________________________________________________________________________\n",
            "conv5_block2_1_bn (BatchNormali (None, 7, 7, 512)    2048        conv5_block2_1_conv[0][0]        \n",
            "__________________________________________________________________________________________________\n",
            "conv5_block2_1_relu (Activation (None, 7, 7, 512)    0           conv5_block2_1_bn[0][0]          \n",
            "__________________________________________________________________________________________________\n",
            "conv5_block2_2_pad (ZeroPadding (None, 9, 9, 512)    0           conv5_block2_1_relu[0][0]        \n",
            "__________________________________________________________________________________________________\n",
            "conv5_block2_2_conv (Conv2D)    (None, 7, 7, 512)    2359296     conv5_block2_2_pad[0][0]         \n",
            "__________________________________________________________________________________________________\n",
            "conv5_block2_2_bn (BatchNormali (None, 7, 7, 512)    2048        conv5_block2_2_conv[0][0]        \n",
            "__________________________________________________________________________________________________\n",
            "conv5_block2_2_relu (Activation (None, 7, 7, 512)    0           conv5_block2_2_bn[0][0]          \n",
            "__________________________________________________________________________________________________\n",
            "conv5_block2_3_conv (Conv2D)    (None, 7, 7, 2048)   1050624     conv5_block2_2_relu[0][0]        \n",
            "__________________________________________________________________________________________________\n",
            "conv5_block2_out (Add)          (None, 7, 7, 2048)   0           conv5_block1_out[0][0]           \n",
            "                                                                 conv5_block2_3_conv[0][0]        \n",
            "__________________________________________________________________________________________________\n",
            "conv5_block3_preact_bn (BatchNo (None, 7, 7, 2048)   8192        conv5_block2_out[0][0]           \n",
            "__________________________________________________________________________________________________\n",
            "conv5_block3_preact_relu (Activ (None, 7, 7, 2048)   0           conv5_block3_preact_bn[0][0]     \n",
            "__________________________________________________________________________________________________\n",
            "conv5_block3_1_conv (Conv2D)    (None, 7, 7, 512)    1048576     conv5_block3_preact_relu[0][0]   \n",
            "__________________________________________________________________________________________________\n",
            "conv5_block3_1_bn (BatchNormali (None, 7, 7, 512)    2048        conv5_block3_1_conv[0][0]        \n",
            "__________________________________________________________________________________________________\n",
            "conv5_block3_1_relu (Activation (None, 7, 7, 512)    0           conv5_block3_1_bn[0][0]          \n",
            "__________________________________________________________________________________________________\n",
            "conv5_block3_2_pad (ZeroPadding (None, 9, 9, 512)    0           conv5_block3_1_relu[0][0]        \n",
            "__________________________________________________________________________________________________\n",
            "conv5_block3_2_conv (Conv2D)    (None, 7, 7, 512)    2359296     conv5_block3_2_pad[0][0]         \n",
            "__________________________________________________________________________________________________\n",
            "conv5_block3_2_bn (BatchNormali (None, 7, 7, 512)    2048        conv5_block3_2_conv[0][0]        \n",
            "__________________________________________________________________________________________________\n",
            "conv5_block3_2_relu (Activation (None, 7, 7, 512)    0           conv5_block3_2_bn[0][0]          \n",
            "__________________________________________________________________________________________________\n",
            "conv5_block3_3_conv (Conv2D)    (None, 7, 7, 2048)   1050624     conv5_block3_2_relu[0][0]        \n",
            "__________________________________________________________________________________________________\n",
            "conv5_block3_out (Add)          (None, 7, 7, 2048)   0           conv5_block2_out[0][0]           \n",
            "                                                                 conv5_block3_3_conv[0][0]        \n",
            "__________________________________________________________________________________________________\n",
            "post_bn (BatchNormalization)    (None, 7, 7, 2048)   8192        conv5_block3_out[0][0]           \n",
            "__________________________________________________________________________________________________\n",
            "post_relu (Activation)          (None, 7, 7, 2048)   0           post_bn[0][0]                    \n",
            "__________________________________________________________________________________________________\n",
            "flatten (Flatten)               (None, 100352)       0           post_relu[0][0]                  \n",
            "__________________________________________________________________________________________________\n",
            "dense (Dense)                   (None, 2)            200706      flatten[0][0]                    \n",
            "==================================================================================================\n",
            "Total params: 23,765,506\n",
            "Trainable params: 200,706\n",
            "Non-trainable params: 23,564,800\n",
            "__________________________________________________________________________________________________\n"
          ],
          "name": "stdout"
        }
      ]
    },
    {
      "cell_type": "code",
      "metadata": {
        "colab": {
          "base_uri": "https://localhost:8080/"
        },
        "id": "74ZDkJVM3KPD",
        "outputId": "130c562f-7e87-4fc0-96e2-fecbaf944978"
      },
      "source": [
        "train_datagen=ImageDataGenerator(preprocessing_function=preprocess_input,\r\n",
        "                                   #rescale = 1./255,\r\n",
        "                                   shear_range = 0.2,\r\n",
        "                                   zoom_range = 0.2,\r\n",
        "                                   horizontal_flip = True,\r\n",
        "                                   vertical_flip= True,\r\n",
        "                                   rotation_range=30,\r\n",
        "                                   width_shift_range=0.2,\r\n",
        "                                   height_shift_range=0.2,\r\n",
        "                                   fill_mode=\"nearest\"\r\n",
        "                                   ) #included in our dependencies\r\n",
        "\r\n",
        "trainGen=train_datagen.flow_from_directory(train_path,\r\n",
        "                                                 target_size=IMAGE_SIZE,\r\n",
        "                                                 color_mode='rgb',\r\n",
        "                                                class_mode='categorical',\r\n",
        "                                                 batch_size=8,\r\n",
        "                                                 shuffle=True)\r\n",
        "\r\n",
        "valid_datagen=ImageDataGenerator(preprocessing_function=preprocess_input,\r\n",
        "                                  #rescale = 1./255\r\n",
        "                                 )\r\n",
        "valGen=valid_datagen.flow_from_directory(valid_path,\r\n",
        "                                                 target_size=IMAGE_SIZE,\r\n",
        "                                                 color_mode='rgb',\r\n",
        "                                                  class_mode='categorical',\r\n",
        "                                                 batch_size=8,\r\n",
        "                                                 shuffle=True)\r\n",
        "\r\n",
        "validC_generator=valid_datagen.flow_from_directory(valid_path,\r\n",
        "                                                 target_size=IMAGE_SIZE,\r\n",
        "                                                 color_mode='rgb',\r\n",
        "                                                  class_mode='categorical',\r\n",
        "                                                 batch_size=8,\r\n",
        "                                                 shuffle= False)\r\n",
        "\r\n",
        "test_datagen=ImageDataGenerator(preprocessing_function=preprocess_input,\r\n",
        "                                #rescale = 1./255\r\n",
        "                                )\r\n",
        "\r\n",
        "test_generator=test_datagen.flow_from_directory(test_path,\r\n",
        "                                                 target_size=IMAGE_SIZE,\r\n",
        "                                                 color_mode='rgb',\r\n",
        "                                                 batch_size=8,\r\n",
        "                                                 shuffle=True)\r\n",
        "\r\n",
        "testC_generator=test_datagen.flow_from_directory(testC_path,\r\n",
        "                                                 target_size=IMAGE_SIZE,\r\n",
        "                                                 color_mode='rgb',\r\n",
        "                                         \r\n",
        "                                                 batch_size=8,\r\n",
        "                                                 shuffle= False\r\n",
        "                                                 )\r\n",
        "testC2_generator=test_datagen.flow_from_directory(testC2_path,\r\n",
        "                                                 target_size=IMAGE_SIZE,\r\n",
        "                                                 color_mode='rgb',\r\n",
        "                                         \r\n",
        "                                                 batch_size=8,\r\n",
        "                                                 shuffle= False\r\n",
        "                                                 )\r\n"
      ],
      "execution_count": null,
      "outputs": [
        {
          "output_type": "stream",
          "text": [
            "Found 113 images belonging to 2 classes.\n",
            "Found 26 images belonging to 2 classes.\n",
            "Found 26 images belonging to 2 classes.\n",
            "Found 13 images belonging to 1 classes.\n",
            "Found 13 images belonging to 2 classes.\n",
            "Found 16 images belonging to 2 classes.\n"
          ],
          "name": "stdout"
        }
      ]
    },
    {
      "cell_type": "code",
      "metadata": {
        "id": "slIMAXkVLW1z"
      },
      "source": [
        "def show_grid(image_list,nrows,ncols,label_list=None,show_labels=False,savename=None,figsize=(10,10),showaxis='off'):\r\n",
        "    if type(image_list) is not list:\r\n",
        "        if(image_list.shape[-1]==1):\r\n",
        "            image_list = [image_list[i,:,:,0] for i in range(image_list.shape[0])]\r\n",
        "        elif(image_list.shape[-1]==3):\r\n",
        "            image_list = [image_list[i,:,:,:] for i in range(image_list.shape[0])]\r\n",
        "    fig = plt.figure(None, figsize,frameon=False)\r\n",
        "    grid = ImageGrid(fig, 111,  # similar to subplot(111)\r\n",
        "                     nrows_ncols=(nrows, ncols),  # creates 2x2 grid of axes\r\n",
        "                     axes_pad=0.3,  # pad between axes in inch.\r\n",
        "                     share_all=True,\r\n",
        "                     )\r\n",
        "    for i in range(nrows*ncols):\r\n",
        "        ax = grid[i]\r\n",
        "        ax.imshow(image_list[i],cmap='Greys_r')  # The AxesGrid object work as a list of axes.\r\n",
        "        ax.axis('off')\r\n",
        "        if show_labels:\r\n",
        "            ax.set_title(class_mapping[y_int[i]])\r\n",
        "    if savename != None:\r\n",
        "        plt.savefig(savename,bbox_inches='tight')"
      ],
      "execution_count": null,
      "outputs": []
    },
    {
      "cell_type": "code",
      "metadata": {
        "colab": {
          "base_uri": "https://localhost:8080/",
          "height": 269
        },
        "id": "6lV-hYrrpf7k",
        "outputId": "84379f41-f4f7-4a5a-90ec-00b7e39c1a30"
      },
      "source": [
        "#print(testC_generator[0][0][0])\r\n",
        "import matplotlib.pyplot as plt\r\n",
        "imgplot = plt.imshow((testC_generator[0][0][7]).astype('uint8'))"
      ],
      "execution_count": null,
      "outputs": [
        {
          "output_type": "display_data",
          "data": {
            "image/png": "[encoded data removed]",
            "text/plain": [
              "<Figure size 432x288 with 1 Axes>"
            ]
          },
          "metadata": {
            "tags": [],
            "needs_background": "light"
          }
        }
      ]
    },
    {
      "cell_type": "code",
      "metadata": {
        "id": "XA6yt1QTkgKI",
        "colab": {
          "base_uri": "https://localhost:8080/"
        },
        "outputId": "2795508b-dfcf-4ec1-8752-e75b73ca1a68"
      },
      "source": [
        "# compile the model\r\n",
        "model.compile(\r\n",
        "  loss='categorical_crossentropy',\r\n",
        "  optimizer='adam',\r\n",
        "  metrics=['accuracy']\r\n",
        ")\r\n",
        "# train the model\r\n",
        "\r\n",
        "r = model.fit(\r\n",
        "\ttrainGen,\r\n",
        "\tsteps_per_epoch=8,\r\n",
        "\tvalidation_data=valGen,\r\n",
        "\tvalidation_steps=4,\r\n",
        "\tepochs=50)"
      ],
      "execution_count": null,
      "outputs": [
        {
          "output_type": "stream",
          "text": [
            "Epoch 1/50\n",
            "8/8 [==============================] - 7s 291ms/step - loss: 1.2285 - accuracy: 0.8434 - val_loss: 1.1058 - val_accuracy: 0.9231\n",
            "Epoch 2/50\n",
            "8/8 [==============================] - 1s 143ms/step - loss: 0.3203 - accuracy: 0.9427 - val_loss: 2.5847 - val_accuracy: 0.9231\n",
            "Epoch 3/50\n",
            "8/8 [==============================] - 1s 123ms/step - loss: 1.3604 - accuracy: 0.8834 - val_loss: 1.8034 - val_accuracy: 0.8846\n",
            "Epoch 4/50\n",
            "8/8 [==============================] - 1s 135ms/step - loss: 0.0449 - accuracy: 0.9938 - val_loss: 1.4776 - val_accuracy: 0.9231\n",
            "Epoch 5/50\n",
            "8/8 [==============================] - 1s 123ms/step - loss: 0.0936 - accuracy: 0.9559 - val_loss: 1.8844 - val_accuracy: 0.9231\n",
            "Epoch 6/50\n",
            "8/8 [==============================] - 1s 139ms/step - loss: 1.1370e-05 - accuracy: 1.0000 - val_loss: 2.4280 - val_accuracy: 0.8846\n",
            "Epoch 7/50\n",
            "8/8 [==============================] - 1s 125ms/step - loss: 1.1492 - accuracy: 0.9049 - val_loss: 1.0519 - val_accuracy: 0.9231\n",
            "Epoch 8/50\n",
            "8/8 [==============================] - 1s 140ms/step - loss: 0.1708 - accuracy: 0.9605 - val_loss: 0.6815 - val_accuracy: 0.9231\n",
            "Epoch 9/50\n",
            "8/8 [==============================] - 1s 137ms/step - loss: 0.0000e+00 - accuracy: 1.0000 - val_loss: 0.7372 - val_accuracy: 0.9615\n",
            "Epoch 10/50\n",
            "8/8 [==============================] - 1s 136ms/step - loss: 0.3043 - accuracy: 0.9817 - val_loss: 0.8693 - val_accuracy: 0.8846\n",
            "Epoch 11/50\n",
            "8/8 [==============================] - 1s 137ms/step - loss: 0.1556 - accuracy: 0.9922 - val_loss: 2.0821 - val_accuracy: 0.8846\n",
            "Epoch 12/50\n",
            "8/8 [==============================] - 1s 121ms/step - loss: 1.0947 - accuracy: 0.9189 - val_loss: 1.3121 - val_accuracy: 0.9615\n",
            "Epoch 13/50\n",
            "8/8 [==============================] - 1s 133ms/step - loss: 1.6529 - accuracy: 0.9506 - val_loss: 1.6398 - val_accuracy: 0.8846\n",
            "Epoch 14/50\n",
            "8/8 [==============================] - 1s 121ms/step - loss: 0.2996 - accuracy: 0.9763 - val_loss: 1.4820 - val_accuracy: 0.8846\n",
            "Epoch 15/50\n",
            "8/8 [==============================] - 1s 134ms/step - loss: 1.5583 - accuracy: 0.9527 - val_loss: 1.1669 - val_accuracy: 0.9615\n",
            "Epoch 16/50\n",
            "8/8 [==============================] - 1s 121ms/step - loss: 0.0000e+00 - accuracy: 1.0000 - val_loss: 1.1312 - val_accuracy: 0.9615\n",
            "Epoch 17/50\n",
            "8/8 [==============================] - 1s 128ms/step - loss: 0.2335 - accuracy: 0.9888 - val_loss: 1.3717 - val_accuracy: 0.8846\n",
            "Epoch 18/50\n",
            "8/8 [==============================] - 1s 123ms/step - loss: 0.1784 - accuracy: 0.9717 - val_loss: 2.1898 - val_accuracy: 0.8846\n",
            "Epoch 19/50\n",
            "8/8 [==============================] - 1s 136ms/step - loss: 0.0447 - accuracy: 0.9945 - val_loss: 2.3273 - val_accuracy: 0.8846\n",
            "Epoch 20/50\n",
            "8/8 [==============================] - 1s 123ms/step - loss: 7.9573e-09 - accuracy: 1.0000 - val_loss: 2.0046 - val_accuracy: 0.8846\n",
            "Epoch 21/50\n",
            "8/8 [==============================] - 1s 136ms/step - loss: 0.0020 - accuracy: 1.0000 - val_loss: 1.9530 - val_accuracy: 0.8846\n",
            "Epoch 22/50\n",
            "8/8 [==============================] - 1s 133ms/step - loss: 0.4615 - accuracy: 0.9605 - val_loss: 1.5338 - val_accuracy: 0.8846\n",
            "Epoch 23/50\n",
            "8/8 [==============================] - 1s 128ms/step - loss: 0.4342 - accuracy: 0.9754 - val_loss: 2.3371 - val_accuracy: 0.8846\n",
            "Epoch 24/50\n",
            "8/8 [==============================] - 1s 126ms/step - loss: 0.7636 - accuracy: 0.9668 - val_loss: 3.4996 - val_accuracy: 0.8846\n",
            "Epoch 25/50\n",
            "8/8 [==============================] - 1s 139ms/step - loss: 1.8639 - accuracy: 0.9605 - val_loss: 2.5748 - val_accuracy: 0.8846\n",
            "Epoch 26/50\n",
            "8/8 [==============================] - 1s 127ms/step - loss: 0.2503 - accuracy: 0.9938 - val_loss: 2.3763 - val_accuracy: 0.8846\n",
            "Epoch 27/50\n",
            "8/8 [==============================] - 1s 128ms/step - loss: 3.9489e-07 - accuracy: 1.0000 - val_loss: 2.6401 - val_accuracy: 0.8846\n",
            "Epoch 28/50\n",
            "8/8 [==============================] - 1s 130ms/step - loss: 0.4571 - accuracy: 0.9849 - val_loss: 3.1965 - val_accuracy: 0.8846\n",
            "Epoch 29/50\n",
            "8/8 [==============================] - 1s 133ms/step - loss: 0.2650 - accuracy: 0.9605 - val_loss: 2.3389 - val_accuracy: 0.9231\n",
            "Epoch 30/50\n",
            "8/8 [==============================] - 1s 121ms/step - loss: 0.6182 - accuracy: 0.9878 - val_loss: 2.3165 - val_accuracy: 0.9231\n",
            "Epoch 31/50\n",
            "8/8 [==============================] - 1s 124ms/step - loss: 0.0700 - accuracy: 0.9911 - val_loss: 2.7564 - val_accuracy: 0.9231\n",
            "Epoch 32/50\n",
            "8/8 [==============================] - 1s 133ms/step - loss: 0.3846 - accuracy: 0.9860 - val_loss: 5.1351 - val_accuracy: 0.9231\n",
            "Epoch 33/50\n",
            "8/8 [==============================] - 1s 136ms/step - loss: 0.3249 - accuracy: 0.9488 - val_loss: 4.8504 - val_accuracy: 0.9231\n",
            "Epoch 34/50\n",
            "8/8 [==============================] - 1s 127ms/step - loss: 0.0000e+00 - accuracy: 1.0000 - val_loss: 4.5977 - val_accuracy: 0.9231\n",
            "Epoch 35/50\n",
            "8/8 [==============================] - 1s 124ms/step - loss: 0.2966 - accuracy: 0.9802 - val_loss: 3.7546 - val_accuracy: 0.9615\n",
            "Epoch 36/50\n",
            "8/8 [==============================] - 1s 121ms/step - loss: 0.2586 - accuracy: 0.9899 - val_loss: 3.7742 - val_accuracy: 0.9615\n",
            "Epoch 37/50\n",
            "8/8 [==============================] - 1s 120ms/step - loss: 0.8440 - accuracy: 0.9490 - val_loss: 3.6335 - val_accuracy: 0.9615\n",
            "Epoch 38/50\n",
            "8/8 [==============================] - 1s 130ms/step - loss: 0.0000e+00 - accuracy: 1.0000 - val_loss: 3.2784 - val_accuracy: 0.9615\n",
            "Epoch 39/50\n",
            "8/8 [==============================] - 1s 134ms/step - loss: 0.0021 - accuracy: 1.0000 - val_loss: 3.1633 - val_accuracy: 0.9615\n",
            "Epoch 40/50\n",
            "8/8 [==============================] - 1s 133ms/step - loss: 0.5015 - accuracy: 0.9689 - val_loss: 3.2596 - val_accuracy: 0.9231\n",
            "Epoch 41/50\n",
            "8/8 [==============================] - 1s 132ms/step - loss: 0.3265 - accuracy: 0.9529 - val_loss: 4.8119 - val_accuracy: 0.9231\n",
            "Epoch 42/50\n",
            "8/8 [==============================] - 1s 134ms/step - loss: 0.5085 - accuracy: 0.9922 - val_loss: 4.1748 - val_accuracy: 0.9231\n",
            "Epoch 43/50\n",
            "8/8 [==============================] - 1s 137ms/step - loss: 0.0012 - accuracy: 1.0000 - val_loss: 3.1151 - val_accuracy: 0.8846\n",
            "Epoch 44/50\n",
            "8/8 [==============================] - 1s 122ms/step - loss: 0.0000e+00 - accuracy: 1.0000 - val_loss: 2.7486 - val_accuracy: 0.9231\n",
            "Epoch 45/50\n",
            "8/8 [==============================] - 1s 134ms/step - loss: 0.7410 - accuracy: 0.9708 - val_loss: 3.9375 - val_accuracy: 0.9231\n",
            "Epoch 46/50\n",
            "8/8 [==============================] - 1s 136ms/step - loss: 0.6119 - accuracy: 0.9860 - val_loss: 4.5237 - val_accuracy: 0.8846\n",
            "Epoch 47/50\n",
            "8/8 [==============================] - 1s 126ms/step - loss: 0.0132 - accuracy: 0.9965 - val_loss: 4.6564 - val_accuracy: 0.8846\n",
            "Epoch 48/50\n",
            "8/8 [==============================] - 1s 134ms/step - loss: 0.0000e+00 - accuracy: 1.0000 - val_loss: 4.9972 - val_accuracy: 0.8846\n",
            "Epoch 49/50\n",
            "8/8 [==============================] - 1s 121ms/step - loss: 0.4284 - accuracy: 0.9717 - val_loss: 5.7468 - val_accuracy: 0.9231\n",
            "Epoch 50/50\n",
            "8/8 [==============================] - 1s 120ms/step - loss: 0.4872 - accuracy: 0.9594 - val_loss: 4.5552 - val_accuracy: 0.8846\n"
          ],
          "name": "stdout"
        }
      ]
    },
    {
      "cell_type": "code",
      "metadata": {
        "colab": {
          "base_uri": "https://localhost:8080/"
        },
        "id": "2EWQwfzZIVNB",
        "outputId": "2b238ae8-d541-4701-f6c9-5d09898cdd07"
      },
      "source": [
        "model.evaluate(trainGen)\r\n",
        "model.evaluate(valGen)\r\n",
        "model.evaluate(testC_generator)"
      ],
      "execution_count": null,
      "outputs": [
        {
          "output_type": "stream",
          "text": [
            "15/15 [==============================] - 1s 96ms/step - loss: 5.2806e-05 - accuracy: 1.0000\n",
            "4/4 [==============================] - 0s 25ms/step - loss: 4.5552 - accuracy: 0.8846\n",
            "2/2 [==============================] - 0s 309ms/step - loss: 7.1478 - accuracy: 0.8462\n"
          ],
          "name": "stdout"
        },
        {
          "output_type": "execute_result",
          "data": {
            "text/plain": [
              "[7.14777135848999, 0.8461538553237915]"
            ]
          },
          "metadata": {
            "tags": []
          },
          "execution_count": 12
        }
      ]
    },
    {
      "cell_type": "code",
      "metadata": {
        "id": "B3UCFJttCM9s",
        "colab": {
          "base_uri": "https://localhost:8080/",
          "height": 534
        },
        "outputId": "ed2b257d-7567-41bd-c74d-787523eaf0db"
      },
      "source": [
        "import matplotlib.pyplot as plt\r\n",
        "# loss\r\n",
        "plt.plot(r.history['loss'], label='train loss')\r\n",
        "plt.plot(r.history['val_loss'], label='val loss')\r\n",
        "plt.legend()\r\n",
        "plt.show()\r\n",
        "plt.savefig('LossVal_loss')\r\n",
        "\r\n",
        "plt.plot(r.history['accuracy'], label='train acc')\r\n",
        "plt.plot(r.history['val_accuracy'], label='val acc')\r\n",
        "plt.legend()\r\n",
        "plt.show()\r\n",
        "plt.savefig('AccVal_acc')\r\n"
      ],
      "execution_count": null,
      "outputs": [
        {
          "output_type": "display_data",
          "data": {
            "image/png": "[encoded data removed]",
            "text/plain": [
              "<Figure size 432x288 with 1 Axes>"
            ]
          },
          "metadata": {
            "tags": [],
            "needs_background": "light"
          }
        },
        {
          "output_type": "display_data",
          "data": {
            "image/png": "[encoded data removed]",
            "text/plain": [
              "<Figure size 432x288 with 1 Axes>"
            ]
          },
          "metadata": {
            "tags": [],
            "needs_background": "light"
          }
        },
        {
          "output_type": "display_data",
          "data": {
            "text/plain": [
              "<Figure size 432x288 with 0 Axes>"
            ]
          },
          "metadata": {
            "tags": []
          }
        }
      ]
    },
    {
      "cell_type": "code",
      "metadata": {
        "id": "q0uF0-l8pkNx"
      },
      "source": [
        "from keras.models import load_model\r\n",
        "modelsavedir='/content/drive/MyDrive/senario1_model/'\r\n",
        "modelname='spill_new_Resnetv2_model.h5'\r\n",
        "model.save(modelsavedir+modelname)\r\n",
        "#np.save(modelsavedir+'Resnetgood1.npy',r.history)\r\n",
        "\r\n",
        "from tensorflow.keras.models import load_model\r\n",
        "new_model = load_model(modelsavedir+modelname)"
      ],
      "execution_count": null,
      "outputs": []
    },
    {
      "cell_type": "code",
      "metadata": {
        "colab": {
          "base_uri": "https://localhost:8080/",
          "height": 642
        },
        "id": "e3wh1EFd6VQ8",
        "outputId": "8e094f28-68b1-4ef6-cf96-75e9940a6fdb"
      },
      "source": [
        "import sklearn.metrics as metrics\r\n",
        "probabilities = new_model.predict(testC2_generator)\r\n",
        "probabilities\r\n",
        "predicted_classes=np.argmax(probabilities, axis=1)\r\n",
        "print('predited\\n',predicted_classes)\r\n",
        "true_classes = testC2_generator.classes\r\n",
        "print('True\\n',true_classes)\r\n",
        "confusion_matrix = metrics.confusion_matrix(y_true=true_classes, y_pred=predicted_classes)  # shape=(12, 12)\r\n",
        "print(confusion_matrix)\r\n",
        "class_labels = list(testC2_generator.class_indices.keys()) \r\n",
        "report = metrics.classification_report(true_classes, predicted_classes, target_names=class_labels)\r\n",
        "print(report)    \r\n",
        "cm_plot_labels = ['notspill','spill']\r\n",
        "plot_confusion_matrix(cm=confusion_matrix, classes=cm_plot_labels, title='Confusion Matrix')"
      ],
      "execution_count": null,
      "outputs": [
        {
          "output_type": "stream",
          "text": [
            "predited\n",
            " [1 0 0 0 0 0 0 0 0 1 0 1 1 1 1 1]\n",
            "True\n",
            " [0 0 0 0 0 0 0 0 0 0 0 0 1 1 1 1]\n",
            "[[9 3]\n",
            " [0 4]]\n",
            "              precision    recall  f1-score   support\n",
            "\n",
            "    notspill       1.00      0.75      0.86        12\n",
            "       spill       0.57      1.00      0.73         4\n",
            "\n",
            "    accuracy                           0.81        16\n",
            "   macro avg       0.79      0.88      0.79        16\n",
            "weighted avg       0.89      0.81      0.82        16\n",
            "\n",
            "Confusion matrix, without normalization\n",
            "[[9 3]\n",
            " [0 4]]\n"
          ],
          "name": "stdout"
        },
        {
          "output_type": "display_data",
          "data": {
            "image/png": "[encoded data removed]",
            "text/plain": [
              "<Figure size 432x288 with 2 Axes>"
            ]
          },
          "metadata": {
            "tags": [],
            "needs_background": "light"
          }
        }
      ]
    },
    {
      "cell_type": "code",
      "metadata": {
        "id": "u5loOOs1YTVj",
        "colab": {
          "base_uri": "https://localhost:8080/",
          "height": 642
        },
        "outputId": "f89e039e-a282-493d-b041-becb3a3dbc09"
      },
      "source": [
        "import sklearn.metrics as metrics\r\n",
        "probabilities = new_model.predict(testC_generator)\r\n",
        "probabilities\r\n",
        "predicted_classes=np.argmax(probabilities, axis=1)\r\n",
        "print('predited\\n',predicted_classes)\r\n",
        "true_classes = testC_generator.classes\r\n",
        "print('True\\n',true_classes)\r\n",
        "confusion_matrix = metrics.confusion_matrix(y_true=true_classes, y_pred=predicted_classes)  # shape=(12, 12)\r\n",
        "print(confusion_matrix)\r\n",
        "class_labels = list(testC_generator.class_indices.keys()) \r\n",
        "report = metrics.classification_report(true_classes, predicted_classes, target_names=class_labels)\r\n",
        "print(report)    \r\n",
        "cm_plot_labels = ['notspill','spill']\r\n",
        "plot_confusion_matrix(cm=confusion_matrix, classes=cm_plot_labels, title='Confusion Matrix')"
      ],
      "execution_count": null,
      "outputs": [
        {
          "output_type": "stream",
          "text": [
            "predited\n",
            " [0 0 0 0 0 0 0 1 0 1 1 1 1]\n",
            "True\n",
            " [0 0 0 0 0 0 0 0 0 0 1 1 1]\n",
            "[[8 2]\n",
            " [0 3]]\n",
            "              precision    recall  f1-score   support\n",
            "\n",
            "    notspill       1.00      0.80      0.89        10\n",
            "       spill       0.60      1.00      0.75         3\n",
            "\n",
            "    accuracy                           0.85        13\n",
            "   macro avg       0.80      0.90      0.82        13\n",
            "weighted avg       0.91      0.85      0.86        13\n",
            "\n",
            "Confusion matrix, without normalization\n",
            "[[8 2]\n",
            " [0 3]]\n"
          ],
          "name": "stdout"
        },
        {
          "output_type": "display_data",
          "data": {
            "image/png": "[encoded data removed]",
            "text/plain": [
              "<Figure size 432x288 with 2 Axes>"
            ]
          },
          "metadata": {
            "tags": [],
            "needs_background": "light"
          }
        }
      ]
    },
    {
      "cell_type": "code",
      "metadata": {
        "id": "32e4D3THYwEj",
        "colab": {
          "base_uri": "https://localhost:8080/",
          "height": 642
        },
        "outputId": "14ebdeaa-564c-41f4-a71b-acfd2b8502a6"
      },
      "source": [
        "probabilities = new_model.predict(validC_generator)\r\n",
        "probabilities\r\n",
        "predicted_classes=np.argmax(probabilities, axis=1)\r\n",
        "print('predited\\n',predicted_classes)\r\n",
        "true_classes = validC_generator.classes\r\n",
        "print('True\\n',true_classes)\r\n",
        "confusion_matrix = metrics.confusion_matrix(y_true=true_classes, y_pred=predicted_classes)  # shape=(12, 12)\r\n",
        "print(confusion_matrix)\r\n",
        "class_labels = list(validC_generator.class_indices.keys()) \r\n",
        "report = metrics.classification_report(true_classes, predicted_classes, target_names=class_labels)\r\n",
        "print(report)    \r\n",
        "plot_confusion_matrix(cm=confusion_matrix, classes=cm_plot_labels, title='Confusion Matrix')"
      ],
      "execution_count": null,
      "outputs": [
        {
          "output_type": "stream",
          "text": [
            "predited\n",
            " [0 0 0 1 0 1 0 0 0 0 0 0 0 0 0 0 0 0 0 0 0 1 1 1 1 1]\n",
            "True\n",
            " [0 0 0 0 0 0 0 0 0 0 0 0 0 0 0 0 0 0 0 0 1 1 1 1 1 1]\n",
            "[[18  2]\n",
            " [ 1  5]]\n",
            "              precision    recall  f1-score   support\n",
            "\n",
            "    notspill       0.95      0.90      0.92        20\n",
            "       spill       0.71      0.83      0.77         6\n",
            "\n",
            "    accuracy                           0.88        26\n",
            "   macro avg       0.83      0.87      0.85        26\n",
            "weighted avg       0.89      0.88      0.89        26\n",
            "\n",
            "Confusion matrix, without normalization\n",
            "[[18  2]\n",
            " [ 1  5]]\n"
          ],
          "name": "stdout"
        },
        {
          "output_type": "display_data",
          "data": {
            "image/png": "[encoded data removed]",
            "text/plain": [
              "<Figure size 432x288 with 2 Axes>"
            ]
          },
          "metadata": {
            "tags": [],
            "needs_background": "light"
          }
        }
      ]
    },
    {
      "cell_type": "code",
      "metadata": {
        "id": "CVzJyjMP5m8l"
      },
      "source": [
        "def load_image(img_path, show=False):\r\n",
        "\r\n",
        "    img = image.load_img(img_path, target_size=(224,224))\r\n",
        "    img_tensor = image.img_to_array(img)                    # (height, width, channels)\r\n",
        "    img_tensor = np.expand_dims(img_tensor, axis=0)         # (1, height, width, channels), add a dimension because the model expects this shape: (batch_size, height, width, channels)\r\n",
        "    img_tensor /= 255.                                      # imshow expects values in the range [0, 1]\r\n",
        "\r\n",
        "    if show:\r\n",
        "        plt.imshow(img_tensor[0])                           \r\n",
        "        plt.axis('off')\r\n",
        "        plt.show()\r\n",
        "\r\n",
        "    return img_tensor"
      ],
      "execution_count": null,
      "outputs": []
    },
    {
      "cell_type": "code",
      "metadata": {
        "id": "v3M_ufqF5pi0",
        "colab": {
          "base_uri": "https://localhost:8080/",
          "height": 393
        },
        "outputId": "eb44739e-cc9b-483f-8f00-f3810c30fa61"
      },
      "source": [
        "\r\n",
        "#img_path = 'C:/Users/Ferhat/Python Code/Workshop/Tensoorflow transfer learning/blue_tit.jpg'\r\n",
        "img_path = '/content/drive/MyDrive/s1_suez_jpg2/20180715.jpg'\r\n",
        "new_image = load_image(img_path)\r\n",
        "pred = model.predict(new_image)\r\n",
        "pred"
      ],
      "execution_count": null,
      "outputs": [
        {
          "output_type": "error",
          "ename": "NameError",
          "evalue": "ignored",
          "traceback": [
            "\u001b[0;31m---------------------------------------------------------------------------\u001b[0m",
            "\u001b[0;31mNameError\u001b[0m                                 Traceback (most recent call last)",
            "\u001b[0;32m<ipython-input-19-63cdf6b24f84>\u001b[0m in \u001b[0;36m<module>\u001b[0;34m()\u001b[0m\n\u001b[1;32m      2\u001b[0m \u001b[0;31m#img_path = 'C:/Users/Ferhat/Python Code/Workshop/Tensoorflow transfer learning/blue_tit.jpg'\u001b[0m\u001b[0;34m\u001b[0m\u001b[0;34m\u001b[0m\u001b[0;34m\u001b[0m\u001b[0m\n\u001b[1;32m      3\u001b[0m \u001b[0mimg_path\u001b[0m \u001b[0;34m=\u001b[0m \u001b[0;34m'/content/drive/MyDrive/s1_suez_jpg2/20180715.jpg'\u001b[0m\u001b[0;34m\u001b[0m\u001b[0;34m\u001b[0m\u001b[0m\n\u001b[0;32m----> 4\u001b[0;31m \u001b[0mnew_image\u001b[0m \u001b[0;34m=\u001b[0m \u001b[0mload_image\u001b[0m\u001b[0;34m(\u001b[0m\u001b[0mimg_path\u001b[0m\u001b[0;34m)\u001b[0m\u001b[0;34m\u001b[0m\u001b[0;34m\u001b[0m\u001b[0m\n\u001b[0m\u001b[1;32m      5\u001b[0m \u001b[0mpred\u001b[0m \u001b[0;34m=\u001b[0m \u001b[0mmodel\u001b[0m\u001b[0;34m.\u001b[0m\u001b[0mpredict\u001b[0m\u001b[0;34m(\u001b[0m\u001b[0mnew_image\u001b[0m\u001b[0;34m)\u001b[0m\u001b[0;34m\u001b[0m\u001b[0;34m\u001b[0m\u001b[0m\n\u001b[1;32m      6\u001b[0m \u001b[0mpred\u001b[0m\u001b[0;34m\u001b[0m\u001b[0;34m\u001b[0m\u001b[0m\n",
            "\u001b[0;32m<ipython-input-18-d3bc183365fc>\u001b[0m in \u001b[0;36mload_image\u001b[0;34m(img_path, show)\u001b[0m\n\u001b[1;32m      1\u001b[0m \u001b[0;32mdef\u001b[0m \u001b[0mload_image\u001b[0m\u001b[0;34m(\u001b[0m\u001b[0mimg_path\u001b[0m\u001b[0;34m,\u001b[0m \u001b[0mshow\u001b[0m\u001b[0;34m=\u001b[0m\u001b[0;32mFalse\u001b[0m\u001b[0;34m)\u001b[0m\u001b[0;34m:\u001b[0m\u001b[0;34m\u001b[0m\u001b[0;34m\u001b[0m\u001b[0m\n\u001b[1;32m      2\u001b[0m \u001b[0;34m\u001b[0m\u001b[0m\n\u001b[0;32m----> 3\u001b[0;31m     \u001b[0mimg\u001b[0m \u001b[0;34m=\u001b[0m \u001b[0mimage\u001b[0m\u001b[0;34m.\u001b[0m\u001b[0mload_img\u001b[0m\u001b[0;34m(\u001b[0m\u001b[0mimg_path\u001b[0m\u001b[0;34m,\u001b[0m \u001b[0mtarget_size\u001b[0m\u001b[0;34m=\u001b[0m\u001b[0;34m(\u001b[0m\u001b[0;36m224\u001b[0m\u001b[0;34m,\u001b[0m\u001b[0;36m224\u001b[0m\u001b[0;34m)\u001b[0m\u001b[0;34m)\u001b[0m\u001b[0;34m\u001b[0m\u001b[0;34m\u001b[0m\u001b[0m\n\u001b[0m\u001b[1;32m      4\u001b[0m     \u001b[0mimg_tensor\u001b[0m \u001b[0;34m=\u001b[0m \u001b[0mimage\u001b[0m\u001b[0;34m.\u001b[0m\u001b[0mimg_to_array\u001b[0m\u001b[0;34m(\u001b[0m\u001b[0mimg\u001b[0m\u001b[0;34m)\u001b[0m                    \u001b[0;31m# (height, width, channels)\u001b[0m\u001b[0;34m\u001b[0m\u001b[0;34m\u001b[0m\u001b[0m\n\u001b[1;32m      5\u001b[0m     \u001b[0mimg_tensor\u001b[0m \u001b[0;34m=\u001b[0m \u001b[0mnp\u001b[0m\u001b[0;34m.\u001b[0m\u001b[0mexpand_dims\u001b[0m\u001b[0;34m(\u001b[0m\u001b[0mimg_tensor\u001b[0m\u001b[0;34m,\u001b[0m \u001b[0maxis\u001b[0m\u001b[0;34m=\u001b[0m\u001b[0;36m0\u001b[0m\u001b[0;34m)\u001b[0m         \u001b[0;31m# (1, height, width, channels), add a dimension because the model expects this shape: (batch_size, height, width, channels)\u001b[0m\u001b[0;34m\u001b[0m\u001b[0;34m\u001b[0m\u001b[0m\n",
            "\u001b[0;31mNameError\u001b[0m: name 'image' is not defined"
          ]
        }
      ]
    }
  ]
}